{
 "cells": [
  {
   "cell_type": "code",
   "execution_count": 20,
   "metadata": {},
   "outputs": [],
   "source": [
    "import os\n",
    "import tweepy as tw\n",
    "import pandas as pd"
   ]
  },
  {
   "cell_type": "code",
   "execution_count": 21,
   "metadata": {},
   "outputs": [],
   "source": [
    "consumer_key= ''\n",
    "consumer_secret= ''\n",
    "access_token= ''\n",
    "access_token_secret= ''"
   ]
  },
  {
   "cell_type": "code",
   "execution_count": 22,
   "metadata": {},
   "outputs": [],
   "source": [
    "auth = tw.OAuthHandler(consumer_key, consumer_secret)\n",
    "auth.set_access_token(access_token, access_token_secret)\n",
    "api = tw.API(auth, wait_on_rate_limit=True)"
   ]
  },
  {
   "cell_type": "code",
   "execution_count": 132,
   "metadata": {},
   "outputs": [
    {
     "name": "stdout",
     "output_type": "stream",
     "text": [
      "<tweepy.cursor.ItemIterator object at 0x12da87b70>\n"
     ]
    }
   ],
   "source": [
    "search_words = \"place:b850c1bfd38f30e0 oyo\"\n",
    "date_since = \"2018-11-16\"\n",
    "\n",
    "tweets = tw.Cursor(api.search,\n",
    "              q=search_words,\n",
    "              lang=\"en\",\n",
    "              since=date_since).items(100)\n",
    "print(tweets)"
   ]
  },
  {
   "cell_type": "code",
   "execution_count": 137,
   "metadata": {},
   "outputs": [
    {
     "name": "stdout",
     "output_type": "stream",
     "text": [
      "\n",
      "@riteshagar @oyoamerica @Biz2Credit retish Ji my problems of Oyo silver key 36995 not solve till date\n",
      "When you see only unmarried couples in OYO hotels \n",
      ".\n",
      ". https://t.co/qKBJdlccb4\n",
      "@OYO4U Will u take your booking amount back and give them your and your loved ones clip. \n",
      "And what are the fucking… https://t.co/oSGEneEb6y\n",
      "And OYO manager was saying.. sir paise wapas lelo fir refund khatam baat.!! \n",
      "Wow... MR. Aggarwal. \n",
      "This kind of act… https://t.co/7IKnTqLn2Y\n",
      "9. They alot me room 404 and i cheked out at 6 same day 2nd Nov. But next day on 3rd nov. I saw still my room was s… https://t.co/65z6FdrGAy\n",
      "7. Worst Response from Oyo Assit and manager also. I have all call recordings of oyo manager and oyo assists No one… https://t.co/ISFEa8hNrA\n",
      "@ConsumerCourt_  @oyorooms  @riteshagar @OYOLifeIndia @OYO4U @noida @FabHotels @makemytrip @goibibo @YatraOfficial… https://t.co/WY8s8Kqi93\n",
      "Looks like all those recent talks abt poorly managed rooms &amp; substandard service at OYO is apparently TRUE. Had a n… https://t.co/jLiayMYNYy\n",
      "@OYO4U @oyorooms @OYO4U @riteshagar Ms Aastha @ Oyo Townhouse 019 is making her own policies and asking ALL the gue… https://t.co/P3tFvRFkzf\n",
      "To work as housekeeping staff in your Guest houses, but then the salary is gender biased too. Can you do something… https://t.co/VGjl1AfMG4\n",
      "Hi @riteshagar,\n",
      "Theres a firm in Mumbai CFMS (P) Ltd which has been asked to employ caretakers, housekeeping staffs… https://t.co/WPT4nlKJ1c\n",
      "So Oyo people called n said we are sorry for the inconveniences caused by us!! I mean how easy it say we are sorry… https://t.co/OfLunjCWgX\n",
      "No wonder why you guys are crap and with shitty services.\n",
      "\n",
      "Dirty pillow with hairs, smells room like toilets and ye… https://t.co/DTVfHOZLMq\n",
      "@iamadityaghosh @oyorooms @riteshagar Aditya Ji I am sharwan Choudhury ex mamber civil aviation ministery secretary… https://t.co/dfxWrKIZo6\n",
      "@OYO4U @oyorooms Stop making such bogus room bookings for Oyo 19937 Hotel Rajkamal international ,Hotel Agreement H… https://t.co/eGNhNLqv4G\n"
     ]
    }
   ],
   "source": [
    "tweets = tw.Cursor(api.search,\n",
    "              q=search_words,\n",
    "              lang=\"en\",\n",
    "              since=date_since).items(15)\n",
    "print()\n",
    "j=[]\n",
    "# Iterate and print tweets\n",
    "for tweet in tweets:\n",
    "    tweet_text=tweet.text\n",
    "    j.append(tweet_text)            \n",
    "    print(tweet_text)\n",
    "with open(\"oyo.txt\", 'w') as file_handler:\n",
    "    for item in j:\n",
    "        file_handler.write(\"{}\\n\".format(item))\n",
    "    "
   ]
  },
  {
   "cell_type": "code",
   "execution_count": 135,
   "metadata": {},
   "outputs": [],
   "source": [
    "import csv\n",
    "with open(\"oyo.csv\", \"w\", newline=\"\") as f:\n",
    "    writer = csv.writer(f)\n",
    "    writer.writerows(j)"
   ]
  },
  {
   "cell_type": "code",
   "execution_count": 119,
   "metadata": {},
   "outputs": [],
   "source": [
    "import re\n",
    "import nltk \n",
    "import matplotlib.pyplot as plt"
   ]
  },
  {
   "cell_type": "code",
   "execution_count": null,
   "metadata": {},
   "outputs": [],
   "source": []
  },
  {
   "cell_type": "code",
   "execution_count": null,
   "metadata": {},
   "outputs": [],
   "source": [
    "pip install wordcloud"
   ]
  },
  {
   "cell_type": "code",
   "execution_count": null,
   "metadata": {},
   "outputs": [],
   "source": []
  }
 ],
 "metadata": {
  "kernelspec": {
   "display_name": "Python 3",
   "language": "python",
   "name": "python3"
  },
  "language_info": {
   "codemirror_mode": {
    "name": "ipython",
    "version": 3
   },
   "file_extension": ".py",
   "mimetype": "text/x-python",
   "name": "python",
   "nbconvert_exporter": "python",
   "pygments_lexer": "ipython3",
   "version": "3.6.8"
  }
 },
 "nbformat": 4,
 "nbformat_minor": 2
}
